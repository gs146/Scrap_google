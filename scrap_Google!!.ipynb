{
 "cells": [
  {
   "cell_type": "code",
   "execution_count": 2,
   "metadata": {},
   "outputs": [],
   "source": [
    "import requests\n",
    "from bs4 import BeautifulSoup\n",
    "import re\n",
    "import urllib.parse\n",
    "from urllib.parse import urlparse"
   ]
  },
  {
   "cell_type": "code",
   "execution_count": 3,
   "metadata": {},
   "outputs": [],
   "source": [
    "search_word = \"Machine learning\""
   ]
  },
  {
   "cell_type": "code",
   "execution_count": 4,
   "metadata": {},
   "outputs": [],
   "source": [
    "def googleSearch(query):\n",
    "    url = 'https://www.google.com/search?client=ubuntu&channel=fs&q={}&ie=utf-8&oe=utf-8'.format(query)\n",
    "    return url"
   ]
  },
  {
   "cell_type": "code",
   "execution_count": 5,
   "metadata": {},
   "outputs": [],
   "source": [
    "url = googleSearch(search_word)"
   ]
  },
  {
   "cell_type": "code",
   "execution_count": 6,
   "metadata": {},
   "outputs": [
    {
     "name": "stdout",
     "output_type": "stream",
     "text": [
      "https://www.google.com/search?client=ubuntu&channel=fs&q=Machine learning&ie=utf-8&oe=utf-8\n"
     ]
    }
   ],
   "source": [
    "print(url)"
   ]
  },
  {
   "cell_type": "code",
   "execution_count": 7,
   "metadata": {},
   "outputs": [],
   "source": [
    "html = requests.get(url)"
   ]
  },
  {
   "cell_type": "code",
   "execution_count": 8,
   "metadata": {},
   "outputs": [],
   "source": [
    "soup = BeautifulSoup(html.text, 'lxml')"
   ]
  },
  {
   "cell_type": "code",
   "execution_count": 9,
   "metadata": {},
   "outputs": [],
   "source": [
    "# soup"
   ]
  },
  {
   "cell_type": "code",
   "execution_count": 10,
   "metadata": {},
   "outputs": [],
   "source": [
    "a = soup.find_all('a')"
   ]
  },
  {
   "cell_type": "code",
   "execution_count": 11,
   "metadata": {},
   "outputs": [],
   "source": [
    "# a"
   ]
  },
  {
   "cell_type": "code",
   "execution_count": 14,
   "metadata": {},
   "outputs": [],
   "source": [
    "clean_links = []\n",
    "\n",
    "for i in a:\n",
    "    k = i.get('href')\n",
    "#     print(k)\n",
    "    try:\n",
    "        m = re.search(\"(?P<url>https?://[^\\s]+)\", k)\n",
    "#         print(\"m====>\",m)\n",
    "        n = m.group(0)\n",
    "#         print(\"n====>\",n)\n",
    "        rul = n.split('&')[0]\n",
    "#         print(\"rul====>\",rul)\n",
    "        domain = urlparse(rul)\n",
    "#         print(\"domain====>\",domain,\"\\n\\n\")\n",
    "        if(re.search('google.com', domain.netloc)):\n",
    "            continue\n",
    "        else:\n",
    "            clean_links.append(rul)\n",
    "    except:\n",
    "        continue"
   ]
  },
  {
   "cell_type": "code",
   "execution_count": 15,
   "metadata": {},
   "outputs": [
    {
     "data": {
      "text/plain": [
       "['https://expertsystem.com/machine-learning-definition/?sa=X',\n",
       " 'https://expertsystem.com/machine-learning-definition/',\n",
       " 'https://www.europeanbusinessreview.com/wp-content/uploads/2018/08/iStock-871793122.jpg',\n",
       " 'https://media.geeksforgeeks.org/wp-content/cdn-uploads/machineLearning3.png',\n",
       " 'https://wordstream-files-prod.s3.amazonaws.com/s3fs-public/styles/simple_image/public/images/machine-learning1.png?SnePeroHk5B9yZaLY7peFkULrfW8Gtaf%26itok%3DyjEJbEKD',\n",
       " 'https://www.ssdntech.com/blog/wp-content/uploads/2019/03/What-Is-Machine-Learning-Types-Of-Machine-Learning.png',\n",
       " 'https://en.wikipedia.org/wiki/Machine_learning',\n",
       " 'https://www.coursera.org/learn/machine-learning',\n",
       " 'https://www.coursera.org/lecture/machine-learning/what-is-machine-learning-Ujm7v',\n",
       " 'https://www.coursera.org/lecture/machine-learning/welcome-to-machine-learning-zcAuT',\n",
       " 'https://www.coursera.org/lecture/machine-learning/learning-curves-Kont7',\n",
       " 'https://en.wikipedia.org/wiki/Machine_learning',\n",
       " 'https://en.wikipedia.org/wiki/Machine_Learning_(journal)',\n",
       " 'https://en.wikipedia.org/wiki/Timeline_of_machine_learning',\n",
       " 'https://en.wikipedia.org/wiki/Supervised_learning',\n",
       " 'https://www.sas.com/en_in/insights/analytics/machine-learning.html',\n",
       " 'https://www.youtube.com/watch%3Fv%3DukzFI9rgwfU',\n",
       " 'https://www.youtube.com/watch%3Fv%3DukzFI9rgwfU',\n",
       " 'https://emerj.com/ai-glossary-terms/what-is-machine-learning/',\n",
       " 'https://www.zdnet.com/article/what-is-machine-learning-everything-you-need-to-know/',\n",
       " 'https://www.geeksforgeeks.org/machine-learning/',\n",
       " 'https://analyticsindiamag.com/top-12-r-packages-for-machine-learning-in-2020/',\n",
       " 'https://www.livemint.com/opinion/columns/covid-has-exposed-the-limitations-of-machine-learning-11591633809674.html',\n",
       " 'https://www.prnewswire.com/news-releases/protxx-and-altaml-announce-wearable-device-and-machine-learning-collaboration-301071455.html',\n",
       " 'https://analyticsindiamag.com/practical-comparison-of-transfer-learning-models-in-multi-class-image-classification/',\n",
       " 'https://analyticsindiamag.com/dpu-nvidia-mellanox-processors/',\n",
       " 'https://analyticsindiamag.com/case-study-how-cloud-based-ml-services-enhanced-the-operational-resilience-of-this-fintech-company/',\n",
       " 'https://analyticsindiamag.com/ml-tools-kaggle-experts/',\n",
       " 'https://www.zdnet.com/article/wwf-indonesia-using-machine-learning-to-save-critically-endangered-orangutans/',\n",
       " 'https://thenextweb.com/offers/2020/06/04/big-data-and-machine-learning-are-growing-at-massive-rates-this-training-explains-why/',\n",
       " 'https://www.forbes.com/sites/jeffmcmahon/2020/05/31/thanks-to-renewables-and-machine-learning-google-now-forecasts-the-wind/',\n",
       " 'https://www.udacity.com/course/machine-learning--ud262']"
      ]
     },
     "execution_count": 15,
     "metadata": {},
     "output_type": "execute_result"
    }
   ],
   "source": [
    "clean_links"
   ]
  },
  {
   "cell_type": "code",
   "execution_count": 25,
   "metadata": {},
   "outputs": [
    {
     "name": "stdout",
     "output_type": "stream",
     "text": [
      "Top google results:\n",
      "********************\n",
      "1) https://expertsystem.com/machine-learning-definition/?sa=X \n",
      "\n",
      "2) https://expertsystem.com/machine-learning-definition/ \n",
      "\n",
      "3) https://www.europeanbusinessreview.com/wp-content/uploads/2018/08/iStock-871793122.jpg \n",
      "\n",
      "4) https://media.geeksforgeeks.org/wp-content/cdn-uploads/machineLearning3.png \n",
      "\n",
      "5) https://wordstream-files-prod.s3.amazonaws.com/s3fs-public/styles/simple_image/public/images/machine-learning1.png?SnePeroHk5B9yZaLY7peFkULrfW8Gtaf%26itok%3DyjEJbEKD \n",
      "\n",
      "6) https://www.ssdntech.com/blog/wp-content/uploads/2019/03/What-Is-Machine-Learning-Types-Of-Machine-Learning.png \n",
      "\n",
      "7) https://en.wikipedia.org/wiki/Machine_learning \n",
      "\n"
     ]
    }
   ],
   "source": [
    "#top 7 results\n",
    "print(\"Top google results:\")\n",
    "print(\"*\"*20)\n",
    "a=1\n",
    "for i in range(7):\n",
    "    print(\"{})\".format(a),clean_links[i],\"\\n\")\n",
    "    a+=1"
   ]
  },
  {
   "cell_type": "markdown",
   "metadata": {},
   "source": [
    "## Data from first link:"
   ]
  },
  {
   "cell_type": "code",
   "execution_count": 126,
   "metadata": {},
   "outputs": [],
   "source": [
    "#Visiting link 1\n",
    "\n",
    "to_visit = clean_links[0]\n",
    "res = requests.get(to_visit)\n",
    "html_page = res.content\n",
    "\n",
    "soup = BeautifulSoup(html_page, 'html.parser')\n",
    "text = soup.find_all(text=True)"
   ]
  },
  {
   "cell_type": "code",
   "execution_count": 127,
   "metadata": {},
   "outputs": [],
   "source": [
    "# text"
   ]
  },
  {
   "cell_type": "code",
   "execution_count": 128,
   "metadata": {},
   "outputs": [
    {
     "data": {
      "text/plain": [
       "{'[document]',\n",
       " 'a',\n",
       " 'article',\n",
       " 'body',\n",
       " 'center',\n",
       " 'div',\n",
       " 'em',\n",
       " 'footer',\n",
       " 'h1',\n",
       " 'h3',\n",
       " 'head',\n",
       " 'html',\n",
       " 'li',\n",
       " 'link',\n",
       " 'main',\n",
       " 'meta',\n",
       " 'p',\n",
       " 'script',\n",
       " 'section',\n",
       " 'span',\n",
       " 'strong',\n",
       " 'style',\n",
       " 'time',\n",
       " 'title',\n",
       " 'ul'}"
      ]
     },
     "execution_count": 128,
     "metadata": {},
     "output_type": "execute_result"
    }
   ],
   "source": [
    "set([t.parent.name for t in text])"
   ]
  },
  {
   "cell_type": "code",
   "execution_count": 129,
   "metadata": {},
   "outputs": [],
   "source": [
    "my_results = ''\n",
    "dont_want = ['[document]','noscript','div','header','style','html','meta','head', 'input','script','link','input type','type']\n",
    "\n",
    "for t in text:\n",
    "     if t.parent.name not in dont_want:\n",
    "        my_results += '{} '.format(t)"
   ]
  },
  {
   "cell_type": "code",
   "execution_count": 131,
   "metadata": {},
   "outputs": [
    {
     "name": "stdout",
     "output_type": "stream",
     "text": [
      "About Machine learning :\n",
      "************************\n",
      "\n",
      "What is Machine Learning? A definition - Expert System \n",
      " LinkedIn Twitter YouTube Menu Partners Training & Certification Program  Request a Demo Menu Use Cases Intelligent Process Automation Knowledge Discovery Industries Insurance Banking Media & Publishing Defence, Intelligence & Law Enforcement Life Science & Pharma Oil & Gas Public Administration Telco & Utilities Products Cogito Discover Cogito Intelligence Platform Cogito Answers Cogito for Underwriting Cogito for Claims Cogito Studio Clinical Research Navigator Medical Intelligence Platform Cogito for Life Sciences Learning Center Technology Resources Video & Demos Briefs & White Papers Expert IQ Reports AI Labs Research Projects Expert System’s Professional services Success Stories Case Studies Testimonials Company About Us Investor Relations Careers Contact Us News Press Coverage Reports Events & Webinars Press Releases Blog English \n",
      " Blog Machine learning What is Machine Learning? A definition Expert System Team Machine learning is an application of artificial intelligence (AI) that provides systems the ability to automatically learn and improve from experience without being explicitly programmed.  Machine learning focuses on the development of computer programs  that can access data and use it learn for themselves. The process of learning begins with observations or data, such as examples, direct experience, or instruction, in order to look for patterns in data and make better decisions in the future based on the examples that we provide.  The primary aim is to allow the computers learn automatically  without human intervention or assistance and adjust actions accordingly. But, using the classic algorithms of machine learning, text is considered as a sequence of keywords; instead,  an approach based on semantic analysis mimics the human ability to understand the meaning of a text . Some machine learning methods Machine learning algorithms are often categorized as supervised or unsupervised. \n",
      " Supervised machine learning algorithms  can apply what has been learned in the past to new data using labeled examples to predict future events. Starting from the analysis of a known training dataset, the learning algorithm produces an inferred function to make predictions about the output values. The system is able to provide targets for any new input after sufficient training. The learning algorithm can also compare its output with the correct, intended output and find errors in order to modify the model accordingly. \n",
      " In contrast,  unsupervised machine learning algorithms  are used when the information used to train is neither classified nor labeled. Unsupervised learning studies how systems can infer a function to describe a hidden structure from unlabeled data. The system doesn’t figure out the right output, but it explores the data and can draw inferences from datasets to describe hidden structures from unlabeled data. \n",
      " Semi-supervised machine learning algorithms  fall somewhere in between supervised and unsupervised learning, since they use both labeled and unlabeled data for training – typically a small amount of labeled data and a large amount of unlabeled data. The systems that use this method are able to considerably improve learning accuracy. Usually, semi-supervised learning is chosen when the acquired labeled data requires skilled and relevant resources in order to train it / learn from it. Otherwise, acquiring unlabeled data generally doesn’t require additional resources. \n",
      " Reinforcement machine learning algorithms  is a learning method that interacts with its environment by producing actions and discovers errors or rewards. Trial and error search and delayed reward are the most relevant characteristics of reinforcement learning. This method allows machines and software agents to automatically determine the ideal behavior within a specific context in order to maximize its performance. Simple reward feedback is required for the agent to learn which action is best; this is known as the reinforcement signal. \n",
      " Machine learning enables analysis of massive quantities of data. While it generally delivers faster, more accurate results in order to identify profitable opportunities or dangerous risks, it may also require additional time and resources to train it properly. Combining machine learning with AI and cognitive technologies can make it even more effective in  processing large volumes of information . Want to learn more? CONTACT US                  REQUEST A DEMO Originally published March 2017, updated May 2020 \n",
      " Share On \n",
      " \n",
      " \n",
      " Post Categories \n",
      " \n",
      " \n",
      " \n",
      " LATEST NEWS \n",
      " The French National Institute of Health and Medical Research (Inserm) Selects Expert System’s Artificial Intelligence to Support COVID-19 Research 4 June 2020 \n",
      " \n",
      " Practical AI: Prepare Your Technology Response To Better Acquire, Serve And Retain Customers in A Post-Pandemic Future 25 May 2020 \n",
      " SUBSCRIBE TO OUR NEWSLETTER REQUEST A DEMO FOLLOW US LinkedIn Twitter YouTube Copyright © 2020 Expert System S.p.A. | P.I. 02608970360 Contact Us \n",
      " Privacy Policy \n",
      " Terms of use \n",
      " Company Data \n",
      " \n",
      " Menu \n"
     ]
    }
   ],
   "source": [
    "print(\"About\", search_word,\":\")\n",
    "print(\"*\"*24)\n",
    "print()\n",
    "print(my_results)"
   ]
  },
  {
   "cell_type": "markdown",
   "metadata": {},
   "source": [
    "## Wikipedia"
   ]
  },
  {
   "cell_type": "code",
   "execution_count": 56,
   "metadata": {},
   "outputs": [],
   "source": [
    "import wikipedia"
   ]
  },
  {
   "cell_type": "code",
   "execution_count": 138,
   "metadata": {},
   "outputs": [
    {
     "name": "stdout",
     "output_type": "stream",
     "text": [
      "Summary from wikipedia:\n",
      "***********************\n"
     ]
    },
    {
     "data": {
      "text/plain": [
       "'Machine learning (ML) is the study of computer algorithms that improve automatically through experience. It is seen as a subset of artificial intelligence. Machine learning algorithms build a mathematical model based on sample data, known as \"training data\", in order to make predictions or decisions without being explicitly programmed to do so. Machine learning algorithms are used in a wide variety of applications, such as email filtering and computer vision, where it is difficult or infeasible to develop  conventional algorithms to perform the needed tasks.\\nMachine learning is closely related to computational statistics, which focuses on making predictions using computers. The study of mathematical optimization delivers methods, theory and application domains to the field of machine learning. Data mining is a related field of study, focusing on exploratory data analysis through unsupervised learning. In its application across business problems, machine learning is also referred to as predictive analytics.\\n\\n'"
      ]
     },
     "execution_count": 138,
     "metadata": {},
     "output_type": "execute_result"
    }
   ],
   "source": [
    "print(\"Summary from wikipedia:\")\n",
    "print(\"*\"*23)\n",
    "wikipedia.summary(search_word)"
   ]
  },
  {
   "cell_type": "code",
   "execution_count": 139,
   "metadata": {},
   "outputs": [],
   "source": [
    "# wikipedia.summary(search_word)"
   ]
  },
  {
   "cell_type": "code",
   "execution_count": 140,
   "metadata": {},
   "outputs": [],
   "source": [
    "# wikipedia.search(\"isro\")"
   ]
  },
  {
   "cell_type": "code",
   "execution_count": 141,
   "metadata": {},
   "outputs": [],
   "source": [
    "# page_object = wikipedia.page(\"python\")\n",
    "# print(page_object.html)"
   ]
  },
  {
   "cell_type": "markdown",
   "metadata": {},
   "source": [
    "## Videos"
   ]
  },
  {
   "cell_type": "code",
   "execution_count": 26,
   "metadata": {},
   "outputs": [
    {
     "name": "stdout",
     "output_type": "stream",
     "text": [
      "Top 10 video links of Youtube:\n",
      " ******************************\n",
      "Python Tutorial for Beginners\n",
      "1) https://www.youtube.com/watch?v=QXeEoD0pB3E&list=PLsyeobzWxl7poL9JTVyndKe62ieoN-MZ3\n",
      "\n",
      "Python Tutorial - Python for Beginners - Learn Python Programming [2020]\n",
      "2) https://www.youtube.com/watch?v=_uQrJ0TkZlc\n",
      "\n",
      "Learn Python - Full Course for Beginners [Tutorial]\n",
      "3) https://www.youtube.com/watch?v=rfscVS0vtbw\n",
      "\n",
      "Complete Python tutorial in Hindi (2020)\n",
      "4) https://www.youtube.com/watch?v=RAwntanK4wQ&list=PLwgFb6VsUj_lQTpQKDtLXKXElQychT_2j\n",
      "\n",
      "Python Full Course - Learn Python in 12 Hours | Python Tutorial For Beginners | Edureka\n",
      "5) https://www.youtube.com/watch?v=WGJJIrtnfpk\n",
      "\n",
      "Python Course | Python Tutorial for Beginners | Intellipaat\n",
      "6) https://www.youtube.com/watch?v=pJ3IPRqiD2M\n",
      "\n",
      "PYTHON PROGRAMMING FOR BEGINNERS\n",
      "7) https://www.youtube.com/watch?v=fEsHK2OzTd4&list=PLLOxZwkBK52DmuHRO3UNpqAzDF57FtIxk\n",
      "\n",
      "Python Tutorials For Absolute Beginners In Hindi\n",
      "8) https://www.youtube.com/watch?v=aqvDTCpNRek&list=PLu0W_9lII9agICnT8t4iYVSZ3eykIAOME\n",
      "\n",
      "Python Tutorial In Hindi ðŸ”¥\n",
      "9) https://www.youtube.com/watch?v=ihk_Xglr164\n",
      "\n",
      "Python Tutorial for Beginners - Full Course in 11 Hours [2020]\n",
      "10) https://www.youtube.com/watch?v=4F2m91eKmts\n",
      "\n",
      "\n",
      "Done!\n",
      " ******************************\n"
     ]
    }
   ],
   "source": [
    "import urllib.request\n",
    "import webbrowser\n",
    "\n",
    "textToSearch = 'python'\n",
    "query = urllib.parse.quote(textToSearch)\n",
    "url = \"https://www.youtube.com/results?search_query=\" + query\n",
    "response = urllib.request.urlopen(url)\n",
    "html = response.read()\n",
    "soup = BeautifulSoup(html, 'html.parser')\n",
    "\n",
    "cnt=0\n",
    "print(\"Top 10 video links of Youtube:\\n\",\"*\"*30)\n",
    "for vid in soup.findAll(attrs={'class':'yt-uix-tile-link'}):\n",
    "    cnt+=1\n",
    "    print(vid.get('title'))\n",
    "    print(\"{})\".format(cnt), 'https://www.youtube.com' + vid['href'])\n",
    "    print()\n",
    "    url = ('https://www.youtube.com/' + vid['href'])\n",
    "#     webbrowser.open(url)\n",
    "    if cnt==10:\n",
    "        break\n",
    "print('\\nDone!\\n',\"*\"*30)\n",
    "    \n",
    "    "
   ]
  },
  {
   "cell_type": "code",
   "execution_count": 22,
   "metadata": {},
   "outputs": [],
   "source": [
    "# soup"
   ]
  },
  {
   "cell_type": "code",
   "execution_count": null,
   "metadata": {},
   "outputs": [],
   "source": [
    "\n"
   ]
  }
 ],
 "metadata": {
  "kernelspec": {
   "display_name": "Python 3",
   "language": "python",
   "name": "python3"
  },
  "language_info": {
   "codemirror_mode": {
    "name": "ipython",
    "version": 3
   },
   "file_extension": ".py",
   "mimetype": "text/x-python",
   "name": "python",
   "nbconvert_exporter": "python",
   "pygments_lexer": "ipython3",
   "version": "3.6.8"
  }
 },
 "nbformat": 4,
 "nbformat_minor": 2
}
